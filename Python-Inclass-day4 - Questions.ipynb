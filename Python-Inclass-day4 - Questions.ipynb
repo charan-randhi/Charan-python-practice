{
 "cells": [
  {
   "cell_type": "raw",
   "metadata": {
    "colab_type": "text",
    "id": "ewz9z--GQgh8"
   },
   "source": [
    "1. Write a Python function to multiply all the numbers in a list."
   ]
  },
  {
   "cell_type": "code",
   "execution_count": 17,
   "metadata": {
    "colab": {},
    "colab_type": "code",
    "id": "lK-hZOrfQgh_"
   },
   "outputs": [
    {
     "name": "stdout",
     "output_type": "stream",
     "text": [
      "720\n"
     ]
    }
   ],
   "source": [
    "def multiply(numbers):\n",
    "    total=1\n",
    "    for x in numbers:\n",
    "        total=total*x\n",
    "    return total\n",
    "print(multiply((1,2,3,4,5,6)))"
   ]
  },
  {
   "cell_type": "raw",
   "metadata": {
    "colab_type": "text",
    "id": "u87J1CV1QgiC"
   },
   "source": [
    "2. Write a Python function to reverse a string \n",
    "i) use for loop\n",
    "ii) use while loop "
   ]
  },
  {
   "cell_type": "code",
   "execution_count": 21,
   "metadata": {
    "colab": {},
    "colab_type": "code",
    "id": "BlZ3CK0RQgiD"
   },
   "outputs": [
    {
     "name": "stdout",
     "output_type": "stream",
     "text": [
      "taerg\n"
     ]
    }
   ],
   "source": [
    "def reverse(s):\n",
    "    while len(s)>0:\n",
    "        print(s[::-1])\n",
    "        break\n",
    "reverse('great')"
   ]
  },
  {
   "cell_type": "code",
   "execution_count": null,
   "metadata": {},
   "outputs": [],
   "source": [
    "def rev(s):\n",
    "    for i in s[-1: :-1]:\n",
    "        print(i, end='')\n"
   ]
  },
  {
   "cell_type": "raw",
   "metadata": {
    "colab_type": "text",
    "id": "9SENBvktQgiG"
   },
   "source": [
    "3. Write a function to add and subtract two variables"
   ]
  },
  {
   "cell_type": "code",
   "execution_count": 23,
   "metadata": {
    "colab": {},
    "colab_type": "code",
    "id": "rwQ6-v82QgiH"
   },
   "outputs": [
    {
     "name": "stdout",
     "output_type": "stream",
     "text": [
      "30 -10\n"
     ]
    }
   ],
   "source": [
    "def addsub(a,b):\n",
    "    add=a+b\n",
    "    sub=a-b\n",
    "    print(add,sub)\n",
    "addsub(10,20)"
   ]
  },
  {
   "cell_type": "raw",
   "metadata": {
    "colab_type": "text",
    "id": "g2Z8raThQgiK"
   },
   "source": [
    "4. Write a function to check the number is divisible by 12"
   ]
  },
  {
   "cell_type": "code",
   "execution_count": 24,
   "metadata": {
    "colab": {},
    "colab_type": "code",
    "id": "IVEQ_4cXQgiL"
   },
   "outputs": [],
   "source": [
    "def check(n):\n",
    "    if n%12==0:\n",
    "        print(\"divisible\")\n",
    "    else:\n",
    "        print(\"not divisible\")"
   ]
  },
  {
   "cell_type": "code",
   "execution_count": 25,
   "metadata": {},
   "outputs": [
    {
     "name": "stdout",
     "output_type": "stream",
     "text": [
      "not divisible\n"
     ]
    }
   ],
   "source": [
    "check(13)"
   ]
  },
  {
   "cell_type": "raw",
   "metadata": {
    "colab_type": "text",
    "id": "RIsrZfBnQgiP"
   },
   "source": [
    "5. Write a function to calculate the number of days and weeks"
   ]
  },
  {
   "cell_type": "code",
   "execution_count": 26,
   "metadata": {
    "colab": {},
    "colab_type": "code",
    "id": "vhEQgxw5QgiQ"
   },
   "outputs": [
    {
     "data": {
      "text/plain": [
       "'1 week (s) and 6 day(s)'"
      ]
     },
     "execution_count": 26,
     "metadata": {},
     "output_type": "execute_result"
    }
   ],
   "source": [
    "def calc(days):\n",
    "    weeks=days//7\n",
    "    remainder=days%7\n",
    "    return \"{} week (s) and {} day(s)\".format(weeks,remainder)\n",
    "calc(13)"
   ]
  },
  {
   "cell_type": "raw",
   "metadata": {
    "colab_type": "text",
    "id": "NIZ46IPLQgiU"
   },
   "source": [
    "6.Write a Python function to Find the 5!?"
   ]
  },
  {
   "cell_type": "code",
   "execution_count": 31,
   "metadata": {
    "colab": {},
    "colab_type": "code",
    "id": "PQnTOPBHQgiV"
   },
   "outputs": [
    {
     "data": {
      "text/plain": [
       "120"
      ]
     },
     "execution_count": 31,
     "metadata": {},
     "output_type": "execute_result"
    }
   ],
   "source": [
    "def factors(x):\n",
    "    if x==0:\n",
    "        return 1\n",
    "    else:\n",
    "        return x*factors(x-1)\n",
    "factors(5)"
   ]
  },
  {
   "cell_type": "raw",
   "metadata": {
    "colab_type": "text",
    "id": "litT6sm5QgiX"
   },
   "source": [
    "7. Write a Python function to find the unique elements of the list = [1,2,3,3,3,3,4,5,4,2,4,2,4,4,2,4,5,4,34,654,5,7,6,5,4,3]\n"
   ]
  },
  {
   "cell_type": "code",
   "execution_count": 37,
   "metadata": {
    "colab": {},
    "colab_type": "code",
    "id": "wQFmhxsZQgiZ"
   },
   "outputs": [],
   "source": [
    "def unique(*args):\n",
    "    return list(set(*args))"
   ]
  },
  {
   "cell_type": "code",
   "execution_count": 38,
   "metadata": {},
   "outputs": [
    {
     "data": {
      "text/plain": [
       "[1, 2, 3, 4, 5, 34, 7, 6, 654]"
      ]
     },
     "execution_count": 38,
     "metadata": {},
     "output_type": "execute_result"
    }
   ],
   "source": [
    "unique([1,2,3,3,3,3,4,5,4,2,4,2,4,4,2,4,5,4,34,654,5,7,6,5,4,3])"
   ]
  },
  {
   "cell_type": "raw",
   "metadata": {
    "colab_type": "text",
    "id": "9agw2EBoQgib"
   },
   "source": [
    "Types of arguments\n",
    "\n",
    "\n",
    "    1. Required arguments\n",
    "    2. Keyword arguments\n",
    "    3. Default arguments\n",
    "   "
   ]
  },
  {
   "cell_type": "raw",
   "metadata": {
    "colab_type": "text",
    "id": "VZ9GRyB3Qgic"
   },
   "source": [
    "1. Required arguments: \n",
    "Write a program to calculate Simple Interest which accepts three arguments and returns the simple interest accordingly"
   ]
  },
  {
   "cell_type": "code",
   "execution_count": 42,
   "metadata": {
    "colab": {},
    "colab_type": "code",
    "id": "lS3oIyt8Qgie"
   },
   "outputs": [
    {
     "name": "stdout",
     "output_type": "stream",
     "text": [
      "amount 4000\n",
      "rate of interest 2\n",
      " years 4\n"
     ]
    }
   ],
   "source": [
    "def simple_interest(p,t,r):\n",
    "    return (p*t*r)/100\n",
    "p=float(input(\"amount \"))\n",
    "r=float(input(\"rate of interest \"))\n",
    "t=float(input(\" years \"))\n",
    "print"
   ]
  },
  {
   "cell_type": "raw",
   "metadata": {
    "colab_type": "text",
    "id": "xbotxe88Qgig"
   },
   "source": [
    "2.Keyword arguments:\n",
    "Write a function which will be called with the name and message as the keyword arguments. Output will be \"printing the message with 'name' and  'message'\""
   ]
  },
  {
   "cell_type": "code",
   "execution_count": 0,
   "metadata": {
    "colab": {},
    "colab_type": "code",
    "id": "vXrs1SGPQgih"
   },
   "outputs": [],
   "source": []
  },
  {
   "cell_type": "raw",
   "metadata": {
    "colab_type": "text",
    "id": "_LcvVsPrQgim"
   },
   "source": [
    "3.Default Arguments:\n",
    "Write a function which will be called with the name as keyword argument and age as the default arguments. Output will be \"My name is 'name' and 'age is 27'\""
   ]
  },
  {
   "cell_type": "code",
   "execution_count": 44,
   "metadata": {
    "colab": {},
    "colab_type": "code",
    "id": "FyHnBEofQgim"
   },
   "outputs": [
    {
     "name": "stdout",
     "output_type": "stream",
     "text": [
      "my name is  charan age is 27\n"
     ]
    }
   ],
   "source": [
    "def default(name,age=27):\n",
    "    print(\"my name is \", name, \"age is\" , age)\n",
    "default('charan')"
   ]
  },
  {
   "cell_type": "markdown",
   "metadata": {
    "colab_type": "text",
    "id": "vlbfErrdQgip"
   },
   "source": [
    "### lambda function"
   ]
  },
  {
   "cell_type": "code",
   "execution_count": 0,
   "metadata": {
    "colab": {},
    "colab_type": "code",
    "id": "cXDL9-AdQgiq"
   },
   "outputs": [],
   "source": []
  },
  {
   "cell_type": "raw",
   "metadata": {
    "colab_type": "text",
    "id": "LfFUwKixQgi1"
   },
   "source": [
    "1. Get a number from user,  find if it is even or odd number?"
   ]
  },
  {
   "cell_type": "code",
   "execution_count": 46,
   "metadata": {
    "colab": {},
    "colab_type": "code",
    "id": "s8HgnLo6Qgi1"
   },
   "outputs": [
    {
     "name": "stdout",
     "output_type": "stream",
     "text": [
      "2\n",
      "0\n"
     ]
    }
   ],
   "source": [
    "remainder=lambda num:num%2\n",
    "print(remainder(int(input())))"
   ]
  },
  {
   "cell_type": "raw",
   "metadata": {
    "colab_type": "text",
    "id": "NBvh7UY8Qgi4"
   },
   "source": [
    "2. Take a input from user and  square it"
   ]
  },
  {
   "cell_type": "code",
   "execution_count": 50,
   "metadata": {
    "colab": {},
    "colab_type": "code",
    "id": "xUG47hOsQgi5"
   },
   "outputs": [
    {
     "name": "stdout",
     "output_type": "stream",
     "text": [
      "5\n",
      "25\n"
     ]
    }
   ],
   "source": [
    "square= lambda x:x*x\n",
    "print(square(int(input())))"
   ]
  },
  {
   "cell_type": "raw",
   "metadata": {
    "colab_type": "text",
    "id": "ht5XKfNXQgi8"
   },
   "source": [
    "3. Write a lambda function using logical operators?\n"
   ]
  },
  {
   "cell_type": "raw",
   "metadata": {
    "colab_type": "raw",
    "id": "va_12U9vUKeX"
   },
   "source": [
    "Hint:\n",
    "Check x < 10\n",
    "Output: False / True"
   ]
  },
  {
   "cell_type": "code",
   "execution_count": 4,
   "metadata": {
    "colab": {},
    "colab_type": "code",
    "id": "wjYpySTcQgi9"
   },
   "outputs": [
    {
     "name": "stdout",
     "output_type": "stream",
     "text": [
      "20\n",
      "False\n"
     ]
    }
   ],
   "source": [
    "check=lambda x:x<10\n",
    "print(check(int(input())))"
   ]
  },
  {
   "cell_type": "raw",
   "metadata": {
    "colab_type": "text",
    "id": "OkNj5AiXQgjA"
   },
   "source": [
    "4. Take an integer input from the user,  add 5 to the number and print it back?"
   ]
  },
  {
   "cell_type": "code",
   "execution_count": 51,
   "metadata": {
    "colab": {},
    "colab_type": "code",
    "id": "1PIvlyTdQgjB"
   },
   "outputs": [
    {
     "name": "stdout",
     "output_type": "stream",
     "text": [
      "20\n",
      "25\n"
     ]
    }
   ],
   "source": [
    "add=lambda x:x+5\n",
    "print(add(int(input())))"
   ]
  },
  {
   "cell_type": "markdown",
   "metadata": {
    "colab_type": "text",
    "id": "OujnXYLsQgjD"
   },
   "source": [
    "### Map"
   ]
  },
  {
   "cell_type": "raw",
   "metadata": {
    "colab_type": "text",
    "id": "KaskbPD5QgjH"
   },
   "source": [
    "1. Add two lists using map ()\n",
    "     lis1 = [12, 24, 36] \n",
    "     lis2 = [41, 54, 69] \n",
    "     \n",
    "     Output:\n",
    "     [53, 78, 105]"
   ]
  },
  {
   "cell_type": "code",
   "execution_count": 52,
   "metadata": {
    "colab": {},
    "colab_type": "code",
    "id": "0Zze5CElQgjI"
   },
   "outputs": [
    {
     "name": "stdout",
     "output_type": "stream",
     "text": [
      "[53, 78, 105]\n"
     ]
    }
   ],
   "source": [
    "lis1 = [12, 24, 36] \n",
    "lis2 = [41, 54, 69] \n",
    "result = map(lambda x,y : x+y,lis1,lis2)\n",
    "print(list(result))"
   ]
  },
  {
   "cell_type": "raw",
   "metadata": {
    "colab_type": "text",
    "id": "WR4oaWUFQgjL"
   },
   "source": [
    "2. Use Lambda and map functions on a List, to square each element in the list = [1, 2, 3, 4, 5, 6, 7]"
   ]
  },
  {
   "cell_type": "code",
   "execution_count": 54,
   "metadata": {
    "colab": {},
    "colab_type": "code",
    "id": "VySlMocZQgjM"
   },
   "outputs": [
    {
     "name": "stdout",
     "output_type": "stream",
     "text": [
      "[1, 4, 9, 16, 25, 36, 49]\n"
     ]
    }
   ],
   "source": [
    "l = [1, 2, 3, 4, 5, 6, 7]\n",
    "l2=print(list(map(lambda x:x**2,l)))"
   ]
  },
  {
   "cell_type": "raw",
   "metadata": {
    "colab_type": "text",
    "id": "F4UwyBbzQgjQ"
   },
   "source": [
    "3.In the given list [1, 2, 3, 4, 5, 6, 7], find the even and odd elements in the list, use the map()function"
   ]
  },
  {
   "cell_type": "code",
   "execution_count": 55,
   "metadata": {
    "colab": {},
    "colab_type": "code",
    "id": "VwpRnZmyQgjR"
   },
   "outputs": [
    {
     "name": "stdout",
     "output_type": "stream",
     "text": [
      "[False, True, False, True, False, True, False]\n"
     ]
    }
   ],
   "source": [
    "l1 = [1, 2, 3, 4, 5, 6, 7]\n",
    "l2=print(list(map(lambda x:x%2==0,l1)))"
   ]
  },
  {
   "cell_type": "raw",
   "metadata": {
    "colab_type": "text",
    "id": "3sPPwRkMQgjU"
   },
   "source": [
    "4. In the given list [11, 12, 13, 14, 435, 6, 27], perform the Floor division using 7 on each elements on the list"
   ]
  },
  {
   "cell_type": "code",
   "execution_count": 56,
   "metadata": {
    "colab": {},
    "colab_type": "code",
    "id": "x-oTxbRNQgjV"
   },
   "outputs": [
    {
     "name": "stdout",
     "output_type": "stream",
     "text": [
      "[False, False, False, False, False, True, False]\n"
     ]
    }
   ],
   "source": [
    "l1=[11, 12, 13, 14, 435, 6, 27]\n",
    "l2=print(list(map(lambda x:x//7==0,l1)))"
   ]
  },
  {
   "cell_type": "markdown",
   "metadata": {
    "colab_type": "text",
    "id": "u5734lwxQgjX"
   },
   "source": [
    "### Filter"
   ]
  },
  {
   "cell_type": "code",
   "execution_count": 0,
   "metadata": {
    "colab": {},
    "colab_type": "code",
    "id": "ie4jXCpEQgjY"
   },
   "outputs": [],
   "source": []
  },
  {
   "cell_type": "raw",
   "metadata": {
    "colab_type": "text",
    "id": "WSodeSmEQgja"
   },
   "source": [
    "1.Using the given list lis1 = [3,12, 24, 36,43,654,65432,2,654,455,43,543] filter the numbers in list which are not divisible by 2"
   ]
  },
  {
   "cell_type": "code",
   "execution_count": 6,
   "metadata": {
    "colab": {},
    "colab_type": "code",
    "id": "T-4yE3BsQgja"
   },
   "outputs": [
    {
     "name": "stdout",
     "output_type": "stream",
     "text": [
      "[3, 43, 455, 43, 543]\n"
     ]
    }
   ],
   "source": [
    "lis1 = [3,12, 24, 36,43,654,65432,2,654,455,43,543]\n",
    "l2=print(list(filter(lambda x:x%2!=0,lis1)))"
   ]
  },
  {
   "cell_type": "raw",
   "metadata": {
    "colab_type": "text",
    "id": "M3sKB6_wQgje"
   },
   "source": [
    "2.For a given list1 = [1, 2, 3, 4, 5, 6] filter only the even numbers (Use filter)."
   ]
  },
  {
   "cell_type": "code",
   "execution_count": 57,
   "metadata": {
    "colab": {},
    "colab_type": "code",
    "id": "2Jw4E2m7Qgjf"
   },
   "outputs": [
    {
     "name": "stdout",
     "output_type": "stream",
     "text": [
      "[2, 4, 6]\n"
     ]
    }
   ],
   "source": [
    "list1 = [1, 2, 3, 4, 5, 6]\n",
    "l2=print(list(filter(lambda x:x%2==0,list1)))"
   ]
  },
  {
   "cell_type": "raw",
   "metadata": {
    "colab_type": "text",
    "id": "FuKAfu6XQgjj"
   },
   "source": [
    "3. For a given list = [2,3,5,3,6,3,7,4,6,7] filter only the even numbers using user defined function.\n"
   ]
  },
  {
   "cell_type": "code",
   "execution_count": 58,
   "metadata": {
    "colab": {},
    "colab_type": "code",
    "id": "Fw7TeM4RQgjk"
   },
   "outputs": [
    {
     "name": "stdout",
     "output_type": "stream",
     "text": [
      "[2, 6, 4, 6]\n"
     ]
    }
   ],
   "source": [
    "def even(x):\n",
    "    if x%2==0:\n",
    "        return True\n",
    "        return False\n",
    "print(list(filter(even,[2,3,5,3,6,3,7,4,6,7])))"
   ]
  },
  {
   "cell_type": "raw",
   "metadata": {
    "colab_type": "text",
    "id": "PQpZ1YM3Qgjn"
   },
   "source": [
    "4. For a given list = [1, 12, 31, 4, 15, 6, 7] filter only the odd numbers using user defined function.\n"
   ]
  },
  {
   "cell_type": "code",
   "execution_count": 60,
   "metadata": {
    "colab": {},
    "colab_type": "code",
    "id": "5Ffm9ZyHQgjp"
   },
   "outputs": [
    {
     "name": "stdout",
     "output_type": "stream",
     "text": [
      "[1, 31, 15, 7]\n"
     ]
    }
   ],
   "source": [
    "def odd(x):\n",
    "    if x%2==1:\n",
    "        return True\n",
    "        return False\n",
    "print(list(filter(odd,[1, 12, 31, 4, 15, 6, 7])))"
   ]
  },
  {
   "cell_type": "markdown",
   "metadata": {
    "colab_type": "text",
    "id": "CCHzjGMAQgjt"
   },
   "source": [
    "### Reduce"
   ]
  },
  {
   "cell_type": "raw",
   "metadata": {
    "colab_type": "text",
    "id": "UuqCl94bQgjx"
   },
   "source": [
    "1.For list = [1, 2, 3, 4] multiply all the elements (use reduce function)"
   ]
  },
  {
   "cell_type": "code",
   "execution_count": 0,
   "metadata": {
    "colab": {},
    "colab_type": "code",
    "id": "Sl79fpY4Qgjy"
   },
   "outputs": [],
   "source": []
  },
  {
   "cell_type": "raw",
   "metadata": {
    "colab_type": "text",
    "id": "7OpO82ZOQgj0"
   },
   "source": [
    "2. For list = [ 11 , 13, 15, 16, 2,43 ]  sum all the elements (use reduce function)"
   ]
  },
  {
   "cell_type": "code",
   "execution_count": 0,
   "metadata": {
    "colab": {},
    "colab_type": "code",
    "id": "kEz0P23ZQgj2"
   },
   "outputs": [],
   "source": []
  },
  {
   "cell_type": "raw",
   "metadata": {
    "colab_type": "text",
    "id": "cywlkri5Qgj4"
   },
   "source": [
    "3. Find the maximum value in the list = [543,7,6,4567,7,78,6,6,78,765,678] (use reduce function)"
   ]
  },
  {
   "cell_type": "code",
   "execution_count": 0,
   "metadata": {
    "colab": {},
    "colab_type": "code",
    "id": "Teo4jNuoQgj4"
   },
   "outputs": [],
   "source": []
  },
  {
   "cell_type": "raw",
   "metadata": {
    "colab_type": "text",
    "id": "zzraoBTEQgj7"
   },
   "source": [
    "4. Find the minimum value in the list= [543,7,6,4567,7,78,6,6,78,765,678] (use reduce function)"
   ]
  },
  {
   "cell_type": "code",
   "execution_count": 0,
   "metadata": {
    "colab": {},
    "colab_type": "code",
    "id": "ZDjddZY4Qgj8"
   },
   "outputs": [],
   "source": []
  }
 ],
 "metadata": {
  "colab": {
   "name": "Inclass-day4-Questions-Bug_Free.ipynb",
   "provenance": []
  },
  "kernelspec": {
   "display_name": "Python 3",
   "language": "python",
   "name": "python3"
  },
  "language_info": {
   "codemirror_mode": {
    "name": "ipython",
    "version": 3
   },
   "file_extension": ".py",
   "mimetype": "text/x-python",
   "name": "python",
   "nbconvert_exporter": "python",
   "pygments_lexer": "ipython3",
   "version": "3.7.4"
  }
 },
 "nbformat": 4,
 "nbformat_minor": 1
}
