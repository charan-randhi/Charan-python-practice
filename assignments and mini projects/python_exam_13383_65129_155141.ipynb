{
 "cells": [
  {
   "cell_type": "markdown",
   "metadata": {},
   "source": [
    "# INTRODUCTION TO PYTHON MID EXAM"
   ]
  },
  {
   "cell_type": "markdown",
   "metadata": {},
   "source": [
    "# SECTION A: 5 MARKS"
   ]
  },
  {
   "cell_type": "markdown",
   "metadata": {},
   "source": [
    " _________________"
   ]
  },
  {
   "cell_type": "markdown",
   "metadata": {},
   "source": [
    "### 1. Mention five benefits of using Python? (5 Marks)\n",
    "\n"
   ]
  },
  {
   "cell_type": "raw",
   "metadata": {},
   "source": [
    "python is a high level general purpose language.python is an versatile easy to use and fast to develop language it is an object oriented language and it is an open source with vast libraries and modules\n",
    "which makes computation easier and accessible.there will not be any problem with threadings.it can be used in web development,artificial intelligence,machine learning\n",
    "and mobile application development.it is an platform independant language.this gives programmers oppurtunity to improve the program functunality by modifying it\n",
    "\"dynamic memory\":the values of programs objects are stored in memory for quick access.\n",
    "\"garbage collection system\": pythons garbage collector runs during program execution and is triggered when an objects reference count reaches zero through this it can clear the memory and speed increases\n",
    "\"private heap space\":memory management in python involves a private heap containing all python objects and data structures.the management of this private heap space is ensured internally ny memory manager"
   ]
  },
  {
   "cell_type": "markdown",
   "metadata": {},
   "source": [
    "# SECTION B: 10 MARKS"
   ]
  },
  {
   "cell_type": "markdown",
   "metadata": {},
   "source": [
    "---------------------"
   ]
  },
  {
   "cell_type": "markdown",
   "metadata": {},
   "source": [
    "### 2 . Python program that accepts a comma separated sequence of words as input and after sorting them alphabetically. (5 marks)\n",
    "\n",
    "\n",
    "**INPUT:**bag,food,eat,pen,with,water\n",
    "\n",
    "**OUTPUT:**bag,eat,food,pen,water,with\n",
    "\n"
   ]
  },
  {
   "cell_type": "code",
   "execution_count": 5,
   "metadata": {},
   "outputs": [
    {
     "name": "stdout",
     "output_type": "stream",
     "text": [
      "input comma seperated sequence of words : bag,food,eat,pen,with,water\n",
      "The sorted order of the sequence is :  bag,eat,food,pen,water,with\n"
     ]
    }
   ],
   "source": [
    "items=input(\"input comma seperated sequence of words : \")\n",
    "words=[word for word in items.split(\",\")]\n",
    "print(\"The sorted order of the sequence is : \", \",\".join(sorted(list(set(words)))))"
   ]
  },
  {
   "cell_type": "markdown",
   "metadata": {},
   "source": [
    "### 3. Python program that computes the value of X+XX+XXX+XXXX with a given digit as the value of a? (5 Marks)\n",
    "\n",
    "\n",
    "\n",
    "**INPUT:**9\n",
    "\n",
    "\n",
    "**OUTPUT:**11106\n",
    "\n",
    "\n"
   ]
  },
  {
   "cell_type": "code",
   "execution_count": 1,
   "metadata": {},
   "outputs": [
    {
     "name": "stdout",
     "output_type": "stream",
     "text": [
      "enter a number: 9\n",
      "The answer is : \n",
      "9 + 99 + 999 + 9999\n",
      "The count value is :  11106\n"
     ]
    }
   ],
   "source": [
    "n=int(input(\"enter a number: \"))\n",
    "a=str(n)\n",
    "a1=a+a\n",
    "a2=a+a+a\n",
    "a3=a+a+a+a\n",
    "print(\"The answer is : \")\n",
    "print(n,\"+\",a1,\"+\",a2,\"+\",a3)\n",
    "print(\"The count value is : \",n+int(a1)+int(a2)+int(a3))"
   ]
  },
  {
   "cell_type": "markdown",
   "metadata": {},
   "source": [
    "# SECTION C: 15 MARKS"
   ]
  },
  {
   "cell_type": "markdown",
   "metadata": {},
   "source": [
    "--------------------"
   ]
  },
  {
   "cell_type": "markdown",
   "metadata": {},
   "source": [
    "### 4. Create User input and check the year is leap year or not? (5 Marks)"
   ]
  },
  {
   "cell_type": "code",
   "execution_count": 10,
   "metadata": {},
   "outputs": [
    {
     "name": "stdout",
     "output_type": "stream",
     "text": [
      "Enter year : 2018\n",
      "2018 Is not a leap year\n"
     ]
    }
   ],
   "source": [
    "year=int(input(\"Enter year : \"))\n",
    "if (year%4)==0:\n",
    "    if (year%100)==0:\n",
    "        if (year%400)==0:\n",
    "            print(year,\"Is a leap year\")\n",
    "        else:\n",
    "            print(year,\"Is not a leap year\")\n",
    "    else:\n",
    "        print(year,\"Is a leap year\")\n",
    "else:\n",
    "    print(year,\"Is not a leap year\")"
   ]
  },
  {
   "cell_type": "markdown",
   "metadata": {},
   "source": [
    "### 5. Program to Accept Three Digits and Print all Possible Combinations from the Digits using for and if? (10 Marks)"
   ]
  },
  {
   "cell_type": "code",
   "execution_count": 2,
   "metadata": {},
   "outputs": [
    {
     "name": "stdout",
     "output_type": "stream",
     "text": [
      "Enter first number : 1\n",
      "Enter second number : 20\n",
      "Enter third number : 300\n",
      "All possible combinations from digits are : 1 20 300\n",
      "All possible combinations from digits are : 1 300 20\n",
      "All possible combinations from digits are : 20 1 300\n",
      "All possible combinations from digits are : 20 300 1\n",
      "All possible combinations from digits are : 300 1 20\n",
      "All possible combinations from digits are : 300 20 1\n"
     ]
    }
   ],
   "source": [
    "a=int(input(\"Enter first number : \"))\n",
    "b=int(input(\"Enter second number : \"))\n",
    "c=int(input(\"Enter third number : \"))\n",
    "d=[]\n",
    "d.append(a)\n",
    "d.append(b)\n",
    "d.append(c)\n",
    "for i in range(0,3):\n",
    "    for j in range(0,3):\n",
    "        for k in range(0,3):\n",
    "            if(i!=j & j!=k & k!=i):\n",
    "                print(\"All possible combinations from digits are :\" , d[i],d[j],d[k])"
   ]
  },
  {
   "cell_type": "code",
   "execution_count": null,
   "metadata": {},
   "outputs": [],
   "source": []
  }
 ],
 "metadata": {
  "kernelspec": {
   "display_name": "Python 3",
   "language": "python",
   "name": "python3"
  },
  "language_info": {
   "codemirror_mode": {
    "name": "ipython",
    "version": 3
   },
   "file_extension": ".py",
   "mimetype": "text/x-python",
   "name": "python",
   "nbconvert_exporter": "python",
   "pygments_lexer": "ipython3",
   "version": "3.7.4"
  }
 },
 "nbformat": 4,
 "nbformat_minor": 2
}
