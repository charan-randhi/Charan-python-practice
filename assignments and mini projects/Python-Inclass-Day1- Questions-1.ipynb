{
 "cells": [
  {
   "cell_type": "raw",
   "metadata": {
    "colab_type": "text",
    "id": "D-KgkVX3IZ-S"
   },
   "source": [
    "1.  Python Program to exchange the values of two numbers without using a temporary variable. "
   ]
  },
  {
   "cell_type": "code",
   "execution_count": null,
   "metadata": {
    "colab": {},
    "colab_type": "code",
    "id": "yldf_YhdIZ-T"
   },
   "outputs": [],
   "source": []
  },
  {
   "cell_type": "raw",
   "metadata": {
    "colab_type": "text",
    "id": "MrK3aZMGIZ-Y"
   },
   "source": [
    "2. Write a python code to replace all  \"a\"  with 2 for the given variable\n",
    "s = 'abc12321cba'"
   ]
  },
  {
   "cell_type": "code",
   "execution_count": null,
   "metadata": {
    "colab": {},
    "colab_type": "code",
    "id": "J7rr7O5XIZ-Z"
   },
   "outputs": [],
   "source": []
  },
  {
   "cell_type": "raw",
   "metadata": {
    "colab_type": "text",
    "id": "Zo8gMGlbIZ-g"
   },
   "source": [
    "3. Python code for to  remove first character in string?"
   ]
  },
  {
   "cell_type": "code",
   "execution_count": null,
   "metadata": {
    "colab": {},
    "colab_type": "code",
    "id": "XTIKmVpiIZ-h"
   },
   "outputs": [],
   "source": [
    "\n"
   ]
  },
  {
   "cell_type": "raw",
   "metadata": {
    "colab_type": "text",
    "id": "XBhfFfEIIZ-n"
   },
   "source": [
    "4. Concatenate two strings  \n",
    "First Input : \"Great\" \n",
    "Second Input : \"Learning\"\n",
    "desired output :   \"Great Learning\""
   ]
  },
  {
   "cell_type": "code",
   "execution_count": null,
   "metadata": {
    "colab": {},
    "colab_type": "code",
    "id": "qVhNDe9mIZ-p"
   },
   "outputs": [],
   "source": []
  },
  {
   "cell_type": "raw",
   "metadata": {
    "colab_type": "text",
    "id": "W1CyejMTIZ-t"
   },
   "source": [
    "5. Repeat the string \"Great Learning\" 3 times \n",
    "desired output :  'Great Learning Great Learning Great Learning '"
   ]
  },
  {
   "cell_type": "code",
   "execution_count": null,
   "metadata": {
    "colab": {},
    "colab_type": "code",
    "id": "6B83XYHVIZ-u"
   },
   "outputs": [],
   "source": []
  },
  {
   "cell_type": "raw",
   "metadata": {
    "colab_type": "text",
    "id": "4oblWnrSIZ-y"
   },
   "source": [
    "6. Create 3 variables a1,a2,a3. Assign the same value \" 4 \" to all the variables in a single line of code."
   ]
  },
  {
   "cell_type": "code",
   "execution_count": null,
   "metadata": {
    "colab": {},
    "colab_type": "code",
    "id": "O7nH3nd-IZ-y"
   },
   "outputs": [],
   "source": []
  },
  {
   "cell_type": "raw",
   "metadata": {
    "colab_type": "text",
    "id": "fs_t4D-oIZ-2"
   },
   "source": [
    "7. Calculate BMI of a person using the height and weight.\n",
    "BMI = weight / (height **2)\n"
   ]
  },
  {
   "cell_type": "code",
   "execution_count": null,
   "metadata": {
    "colab": {},
    "colab_type": "code",
    "id": "N_VZSoYjIZ-3"
   },
   "outputs": [],
   "source": []
  },
  {
   "cell_type": "raw",
   "metadata": {
    "colab_type": "text",
    "id": "JgXK2m28IZ-7"
   },
   "source": [
    "8.Write a python program to calculate the area of circle."
   ]
  },
  {
   "cell_type": "code",
   "execution_count": null,
   "metadata": {
    "colab": {},
    "colab_type": "code",
    "id": "m73v7qoCIZ-8"
   },
   "outputs": [],
   "source": []
  },
  {
   "cell_type": "raw",
   "metadata": {
    "colab_type": "text",
    "id": "BHXFt9VwIZ_A"
   },
   "source": [
    "9.Calculate the simple interest\n",
    "simple_interest = p * n * r /100"
   ]
  },
  {
   "cell_type": "code",
   "execution_count": null,
   "metadata": {
    "colab": {},
    "colab_type": "code",
    "id": "7wHLjXC4IZ_B"
   },
   "outputs": [],
   "source": []
  },
  {
   "cell_type": "raw",
   "metadata": {
    "colab_type": "text",
    "id": "afLADSCGIZ_G"
   },
   "source": [
    "10.Python code to calculate the square root of the given number(run time variable)"
   ]
  },
  {
   "cell_type": "code",
   "execution_count": null,
   "metadata": {
    "colab": {},
    "colab_type": "code",
    "id": "XBTku4euIZ_H"
   },
   "outputs": [],
   "source": []
  },
  {
   "cell_type": "code",
   "execution_count": null,
   "metadata": {},
   "outputs": [],
   "source": []
  }
 ],
 "metadata": {
  "colab": {
   "collapsed_sections": [],
   "name": "Python-Inclass-Day1- (Questions).ipynb",
   "provenance": []
  },
  "kernelspec": {
   "display_name": "Python 3",
   "language": "python",
   "name": "python3"
  },
  "language_info": {
   "codemirror_mode": {
    "name": "ipython",
    "version": 3
   },
   "file_extension": ".py",
   "mimetype": "text/x-python",
   "name": "python",
   "nbconvert_exporter": "python",
   "pygments_lexer": "ipython3",
   "version": "3.7.4"
  }
 },
 "nbformat": 4,
 "nbformat_minor": 1
}
