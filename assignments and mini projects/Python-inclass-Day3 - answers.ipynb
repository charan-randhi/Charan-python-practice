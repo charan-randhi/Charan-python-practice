{
 "cells": [
  {
   "cell_type": "markdown",
   "metadata": {
    "colab_type": "text",
    "id": "YurNlf1ey43z"
   },
   "source": [
    "### IF Statement "
   ]
  },
  {
   "cell_type": "markdown",
   "metadata": {
    "colab_type": "text",
    "id": "6NhWXF8Oy436"
   },
   "source": [
    "### Problems:"
   ]
  },
  {
   "cell_type": "markdown",
   "metadata": {
    "colab_type": "text",
    "id": "m9Z3d0SOy439"
   },
   "source": [
    "1. Write a program to check whether x is less than y\n",
    "\n",
    "where, x = 20 and y = 30 "
   ]
  },
  {
   "cell_type": "markdown",
   "metadata": {
    "colab_type": "raw",
    "id": "HMGAj9ury44C"
   },
   "source": [
    "Assigning x equal to 20\n",
    "Assigning y equal to 30\n",
    "If condition x is less then y then go to step 4\n",
    "print x is less then y"
   ]
  },
  {
   "cell_type": "code",
   "execution_count": 1,
   "metadata": {
    "colab": {},
    "colab_type": "code",
    "id": "q_GVFvjpy44G"
   },
   "outputs": [],
   "source": [
    "x=20\n",
    "y=30"
   ]
  },
  {
   "cell_type": "code",
   "execution_count": 2,
   "metadata": {
    "colab": {},
    "colab_type": "code",
    "id": "UImbMp6HPGDk"
   },
   "outputs": [
    {
     "name": "stdout",
     "output_type": "stream",
     "text": [
      "x is less than y\n"
     ]
    }
   ],
   "source": [
    "if x<y:\n",
    "    print('x is less than y')\n",
    "else :\n",
    "    print('x is greater than y')\n"
   ]
  },
  {
   "cell_type": "markdown",
   "metadata": {
    "colab_type": "text",
    "id": "JKvApWVsy44P"
   },
   "source": [
    "2. Write a program to check whether the total score (theory --> 100 + practical --> 100) is less than or equal to 200. \n",
    "If it goes beyond 200, print an error or a warning message."
   ]
  },
  {
   "cell_type": "markdown",
   "metadata": {
    "colab_type": "raw",
    "id": "X-HjL_jdy44R"
   },
   "source": [
    "Hint:\n",
    "\n",
    "Set, \n",
    "Theory equal to 140\n",
    "Practical equal to 145\n",
    "If condition for theory + practical is greater than 200 \n",
    "then, print invalid score"
   ]
  },
  {
   "cell_type": "code",
   "execution_count": 2,
   "metadata": {
    "colab": {},
    "colab_type": "code",
    "id": "U2Lg4OlGy44S"
   },
   "outputs": [
    {
     "name": "stdout",
     "output_type": "stream",
     "text": [
      "enter theory score : 150\n",
      "enter practical score : 60\n",
      "invalid score\n"
     ]
    }
   ],
   "source": [
    "input1=float(input(\"enter theory score : \"))\n",
    "input2=float(input(\"enter practical score : \"))\n",
    "input3=input1+input2\n",
    "if input3>200:\n",
    "    print(\"invalid score\")\n",
    "else:\n",
    "    print(\"total score is \",input3)"
   ]
  },
  {
   "cell_type": "code",
   "execution_count": 0,
   "metadata": {
    "colab": {},
    "colab_type": "code",
    "id": "yFPbzDVJPGD2"
   },
   "outputs": [],
   "source": []
  },
  {
   "cell_type": "markdown",
   "metadata": {
    "colab_type": "text",
    "id": "AXM3BPgKy44Z"
   },
   "source": [
    "# If-else Statement"
   ]
  },
  {
   "cell_type": "markdown",
   "metadata": {
    "colab_type": "text",
    "id": "bgjVjwn1y44b"
   },
   "source": [
    "3. Write a python program to to check whether the student has passed the subject based on string input yes/no"
   ]
  },
  {
   "cell_type": "markdown",
   "metadata": {
    "colab_type": "raw",
    "id": "BqERIAS1y44e"
   },
   "source": [
    "Hint:\n",
    "\n",
    "Get an user input 'yes' / 'no' pass this to variable named 'Subject'\n",
    "Create a If condition, when the Subject value is 'yes' then print 'Cleared the test', Else print 'Failed the test'"
   ]
  },
  {
   "cell_type": "code",
   "execution_count": 3,
   "metadata": {
    "colab": {},
    "colab_type": "code",
    "id": "FAKl5W17y44f"
   },
   "outputs": [
    {
     "name": "stdout",
     "output_type": "stream",
     "text": [
      "enter yes or no : no\n",
      "failed the test\n"
     ]
    }
   ],
   "source": [
    "subject=input(\"enter yes or no : \").lower()\n",
    "if subject=='yes':\n",
    "    print('cleared the test')\n",
    "else:\n",
    "    print('failed the test')"
   ]
  },
  {
   "cell_type": "code",
   "execution_count": 0,
   "metadata": {
    "colab": {},
    "colab_type": "code",
    "id": "PYOuth7dPGEK"
   },
   "outputs": [],
   "source": []
  },
  {
   "cell_type": "markdown",
   "metadata": {
    "colab_type": "text",
    "id": "fUPldF71y44k"
   },
   "source": [
    "4. Write a program to get the password from user, check whether the password is 'great'. \n",
    "Through a reply to the user accordingly.\n"
   ]
  },
  {
   "cell_type": "markdown",
   "metadata": {
    "colab_type": "raw",
    "id": "emGFmE6ny44m"
   },
   "source": [
    "Hint:\n",
    "\n",
    "Get password from user, the input statement should be 'Enter the password: '\n",
    "pass this to variable named 'Password'\n",
    "If passwrod is 'great', print 'Password Accepted'\n",
    "else print  'Wrong Password'"
   ]
  },
  {
   "cell_type": "code",
   "execution_count": 10,
   "metadata": {
    "colab": {},
    "colab_type": "code",
    "id": "TnsJ2NCgPGEV"
   },
   "outputs": [
    {
     "name": "stdout",
     "output_type": "stream",
     "text": [
      "enter your password here : great\n",
      "password accepted\n"
     ]
    }
   ],
   "source": [
    "password=input(\"enter your password here : \").lower()\n",
    "if password=='great':\n",
    "    print('password accepted')\n",
    "else:\n",
    "    print('wrong password')\n"
   ]
  },
  {
   "cell_type": "code",
   "execution_count": 0,
   "metadata": {
    "colab": {},
    "colab_type": "code",
    "id": "Y9OmscBFy44o"
   },
   "outputs": [],
   "source": []
  },
  {
   "cell_type": "markdown",
   "metadata": {
    "colab_type": "text",
    "id": "sVdKSBWxy44s"
   },
   "source": [
    "###  Nested if Statement"
   ]
  },
  {
   "cell_type": "markdown",
   "metadata": {
    "colab_type": "text",
    "id": "ORP8ijyRy44t"
   },
   "source": [
    "1. Based on the users age, divide them in to three groups \n",
    "Group 1 : Age <=18 , Minors who are not eligible to work\n",
    "Group 2 : 18<Age<60 , ELigible to work\n",
    "Group 3 : >=60, Too old to work as per govt. regulations. \n",
    "\n",
    "Write a program for the same"
   ]
  },
  {
   "cell_type": "markdown",
   "metadata": {
    "colab_type": "raw",
    "id": "vr5jVTauy44v"
   },
   "source": [
    "Hint:\n",
    "\n",
    "Create variable Name age equal to input \n",
    "if condition for age is < 18 go to step 3 , else go to step 5 \n",
    "print  Your Minor not Eligible to Work \n",
    "if condition for age >= 18 and age <= 60 go to step 5 , else go to step 6 \n",
    "print Your Eligible to Work fill in your details and apply \n",
    "print Your too old to work as per the Government rules  Please Collect your pension"
   ]
  },
  {
   "cell_type": "code",
   "execution_count": 20,
   "metadata": {
    "colab": {},
    "colab_type": "code",
    "id": "29Gx_xszy44x"
   },
   "outputs": [
    {
     "name": "stdout",
     "output_type": "stream",
     "text": [
      "enter your name here : charan\n",
      "enter your age : 60\n",
      "sorry charan you are too old to work as per the govt rules, please collect your pension\n"
     ]
    }
   ],
   "source": [
    "name=input(\"enter your name here : \" )\n",
    "age=int(input(\"enter your age : \" ))\n",
    "if age>18 and age<60 :\n",
    "    print(\"you are eligible to work\")\n",
    "elif age<18 :\n",
    "    print(\"sorry\", name ,\"you are minor not eligible to work\")\n",
    "elif age>=60:\n",
    "    print(\"sorry\", name ,\"you are too old to work as per the govt rules, please collect your pension\")"
   ]
  },
  {
   "cell_type": "markdown",
   "metadata": {
    "colab_type": "text",
    "id": "toVvT4AHy441"
   },
   "source": [
    "# While Loop"
   ]
  },
  {
   "cell_type": "markdown",
   "metadata": {
    "colab_type": "text",
    "id": "JzVSpQm3y442"
   },
   "source": [
    "1. Take an integer as input from the user and print all the numbers from 0 to that number in reverse order. \n",
    "\n",
    "Example : if the input is 3, the output should be\n",
    "3\n",
    "2\n",
    "1"
   ]
  },
  {
   "cell_type": "markdown",
   "metadata": {
    "colab_type": "raw",
    "id": "UujG1eK4y443"
   },
   "source": [
    "Hint:\n",
    "\n",
    "Create variable n using input value\n",
    "give the while loop condition i.e. n > 0\n",
    "then decrement,  n = n-1\n",
    "print n"
   ]
  },
  {
   "cell_type": "code",
   "execution_count": 4,
   "metadata": {
    "colab": {},
    "colab_type": "code",
    "id": "2yWZDRERy445"
   },
   "outputs": [
    {
     "name": "stdout",
     "output_type": "stream",
     "text": [
      "3\n",
      "2\n",
      "1\n",
      "0\n"
     ]
    }
   ],
   "source": [
    "n=int(input())\n",
    "while n>0:\n",
    "    n=n-1\n",
    "    print(n)"
   ]
  },
  {
   "cell_type": "markdown",
   "metadata": {
    "colab_type": "text",
    "id": "GqAtNJKny448"
   },
   "source": [
    "2.  Write a python code to find the squares of all the numbers based on an input. \n",
    "\n",
    "    Example : If the input is 10, the output should be\n",
    "    1*1 ,2*2 ,3*3...... 10*10"
   ]
  },
  {
   "cell_type": "markdown",
   "metadata": {
    "colab_type": "raw",
    "id": "h8wQhRR8y449"
   },
   "source": [
    "Hint:\n",
    "\n",
    "Create the variable i assigning to 1\n",
    "Give the while loop condition for i <= 10 \n",
    "print i ** 2\n",
    "increment i\n",
    "loop will execute until i is less than or equal to 10"
   ]
  },
  {
   "cell_type": "code",
   "execution_count": 5,
   "metadata": {
    "colab": {},
    "colab_type": "code",
    "id": "FnSN3IVBy44-"
   },
   "outputs": [
    {
     "name": "stdout",
     "output_type": "stream",
     "text": [
      "1\n",
      "4\n",
      "9\n",
      "16\n",
      "25\n",
      "36\n",
      "49\n",
      "64\n",
      "81\n",
      "100\n"
     ]
    }
   ],
   "source": [
    "i=1\n",
    "while i<=10:\n",
    "    print(i**2)\n",
    "    i=i+1"
   ]
  },
  {
   "cell_type": "markdown",
   "metadata": {
    "colab_type": "text",
    "id": "wv5lDNH7y45D"
   },
   "source": [
    "# For Loop"
   ]
  },
  {
   "cell_type": "markdown",
   "metadata": {
    "colab_type": "text",
    "id": "UyMHt4nBy45E"
   },
   "source": [
    "1. Write a pseudocode to print the multiplication table of a given number.\n",
    "\n",
    "Example : if the user input is 3, the output should be like below :  \n",
    "3 X 1 = 3\n",
    "3 X 2 = 6\n",
    "...\n",
    "3 X 10 =30"
   ]
  },
  {
   "cell_type": "markdown",
   "metadata": {
    "colab_type": "raw",
    "id": "BhXoWhR5y45F"
   },
   "source": [
    "Hint:\n",
    "\n",
    "Get user input and store it in variable n.\n",
    "Give the For loop condition in the range between (1,11)\n",
    "In print statement give the condition (n,'x',i,'=' ,n*i)\n",
    "This will print the multiplication tables of a given number."
   ]
  },
  {
   "cell_type": "code",
   "execution_count": 7,
   "metadata": {
    "colab": {},
    "colab_type": "code",
    "id": "2hqziV4my45G"
   },
   "outputs": [
    {
     "name": "stdout",
     "output_type": "stream",
     "text": [
      "8\n",
      "8 x 1 = 8\n",
      "8 x 2 = 16\n",
      "8 x 3 = 24\n",
      "8 x 4 = 32\n",
      "8 x 5 = 40\n",
      "8 x 6 = 48\n",
      "8 x 7 = 56\n",
      "8 x 8 = 64\n",
      "8 x 9 = 72\n",
      "8 x 10 = 80\n",
      "8 x 11 = 88\n",
      "8 x 12 = 96\n"
     ]
    }
   ],
   "source": [
    "n=int(input())\n",
    "for i in range(1,13):\n",
    "    print(n,\"x\",i,\"=\" ,n*i)"
   ]
  },
  {
   "cell_type": "markdown",
   "metadata": {
    "colab_type": "text",
    "id": "4LCx_EkBy45K"
   },
   "source": [
    "2. Write a python code to print squares of all numbers present in the list = [1, 22, 14, 64, 31, 120]\n"
   ]
  },
  {
   "cell_type": "markdown",
   "metadata": {
    "colab_type": "raw",
    "id": "iZYpl3Mxy45L"
   },
   "source": [
    "Hint:\n",
    "\n",
    "Create a list named 'numbers' [1, 22, 14, 64, 31, 120]\n",
    "Create a variable name 'square' and assign 0 to it\n",
    "For loop condition for i in the list\n",
    "square equal to i * i  \n",
    "Print square"
   ]
  },
  {
   "cell_type": "code",
   "execution_count": 10,
   "metadata": {
    "colab": {},
    "colab_type": "code",
    "id": "7g6XcBdyy45N"
   },
   "outputs": [
    {
     "name": "stdout",
     "output_type": "stream",
     "text": [
      "1 484 196 4096 961 14400 "
     ]
    }
   ],
   "source": [
    "numbers=[1,22,14,64,31,120]\n",
    "square=0\n",
    "for value in numbers:\n",
    "    square=value*value\n",
    "    print(square, end=\" \")\n",
    "    "
   ]
  },
  {
   "cell_type": "markdown",
   "metadata": {
    "colab_type": "text",
    "id": "NOt8e215y45R"
   },
   "source": [
    "# Additional Practice Programs"
   ]
  },
  {
   "cell_type": "markdown",
   "metadata": {
    "colab_type": "text",
    "id": "Wgtxy1O-y45S"
   },
   "source": [
    "1. Write a python program that takes a list  ['red','black','blue']  and prints each element in the list using whle loop"
   ]
  },
  {
   "cell_type": "code",
   "execution_count": 11,
   "metadata": {
    "colab": {},
    "colab_type": "code",
    "id": "J9thpvVly45T"
   },
   "outputs": [
    {
     "name": "stdout",
     "output_type": "stream",
     "text": [
      "red\n",
      "black\n",
      "blue\n"
     ]
    }
   ],
   "source": [
    "colors=['red','black','blue']\n",
    "i=0\n",
    "while i< len(colors):\n",
    "    print(colors[i])\n",
    "    i=i+1"
   ]
  },
  {
   "cell_type": "markdown",
   "metadata": {
    "colab_type": "text",
    "id": "Qkam1M_ty45W"
   },
   "source": [
    "2. Write a same program as above using a For loop?"
   ]
  },
  {
   "cell_type": "code",
   "execution_count": 12,
   "metadata": {
    "colab": {},
    "colab_type": "code",
    "id": "f-dZN4Bpy45X"
   },
   "outputs": [
    {
     "name": "stdout",
     "output_type": "stream",
     "text": [
      "red\n",
      "black\n",
      "blue\n"
     ]
    }
   ],
   "source": [
    "colors=['red','black','blue']\n",
    "for i in colors:\n",
    "    print(i)"
   ]
  },
  {
   "cell_type": "markdown",
   "metadata": {
    "colab_type": "text",
    "id": "AdjuJ5fIy45d"
   },
   "source": [
    "3. Write a Python Program to find the LCM of two numbers?"
   ]
  },
  {
   "cell_type": "code",
   "execution_count": 14,
   "metadata": {
    "colab": {},
    "colab_type": "code",
    "id": "ddyxfOdEy45e"
   },
   "outputs": [
    {
     "name": "stdout",
     "output_type": "stream",
     "text": [
      "43\n",
      "654\n",
      "lcm is :  28122\n"
     ]
    }
   ],
   "source": [
    "a=int(input())\n",
    "b=int(input())\n",
    "if(a>b):\n",
    "    variable=a\n",
    "else:\n",
    "    variable=b\n",
    "while True:\n",
    "    if (variable%a==0 and variable%b==0):\n",
    "        print(\"lcm is : \",variable)\n",
    "        break\n",
    "    variable=variable+1"
   ]
  },
  {
   "cell_type": "markdown",
   "metadata": {
    "colab_type": "text",
    "id": "XjRbcN1Zy45o"
   },
   "source": [
    "4. Python Program to find the sum of series: 1 + 1/2 + 1/3 + ….. + 1/N."
   ]
  },
  {
   "cell_type": "code",
   "execution_count": 11,
   "metadata": {
    "colab": {},
    "colab_type": "code",
    "id": "uioloeOzy45q"
   },
   "outputs": [
    {
     "name": "stdout",
     "output_type": "stream",
     "text": [
      "3\n",
      "the sum of series is  1.833\n"
     ]
    }
   ],
   "source": [
    "n=int(input())\n",
    "summation=0\n",
    "for i in range(1,n+1):\n",
    "    summation=summation+(1/i)\n",
    "print(\"the sum of series is \", round(summation,3))"
   ]
  },
  {
   "cell_type": "markdown",
   "metadata": {
    "colab_type": "text",
    "id": "Gzfsp9O5y45u"
   },
   "source": [
    "# List Comprehensions"
   ]
  },
  {
   "cell_type": "markdown",
   "metadata": {
    "colab_type": "text",
    "id": "yN0FsP6Py45v"
   },
   "source": [
    "1. \n",
    "\n",
    "i. Write a Python program to get the squares of numbers present in the range of (1-10) \n",
    "\n",
    "* output squares = [0, 1, 4, 9, 16, 25, 36, 49, 64, 81, 100]"
   ]
  },
  {
   "cell_type": "code",
   "execution_count": 1,
   "metadata": {
    "colab": {},
    "colab_type": "code",
    "id": "y6ybeqU8PGFz"
   },
   "outputs": [
    {
     "data": {
      "text/plain": [
       "[0, 1, 4, 9, 16, 25, 36, 49, 64, 81, 100]"
      ]
     },
     "execution_count": 1,
     "metadata": {},
     "output_type": "execute_result"
    }
   ],
   "source": [
    "squares=[]\n",
    "for i in range(0,11):\n",
    "    squares.append(i*i)\n",
    "squares"
   ]
  },
  {
   "cell_type": "markdown",
   "metadata": {
    "colab_type": "text",
    "id": "zUjpZdYBy45w"
   },
   "source": [
    "ii. For the same question get the desired output using List Comprehension"
   ]
  },
  {
   "cell_type": "code",
   "execution_count": 2,
   "metadata": {
    "colab": {},
    "colab_type": "code",
    "id": "L3Gf_MQcy45x"
   },
   "outputs": [
    {
     "name": "stdout",
     "output_type": "stream",
     "text": [
      "[0, 1, 4, 9, 16, 25, 36, 49, 64, 81, 100]\n"
     ]
    }
   ],
   "source": [
    "squares=[i*i     for i in range(0,11)]\n",
    "print(squares)"
   ]
  },
  {
   "cell_type": "markdown",
   "metadata": {
    "colab_type": "text",
    "id": "HzepkuTty452"
   },
   "source": [
    "2. Convert a list of integers to a list of strings, using List comprehension"
   ]
  },
  {
   "cell_type": "code",
   "execution_count": 4,
   "metadata": {
    "colab": {},
    "colab_type": "code",
    "id": "splp6FNxy453"
   },
   "outputs": [
    {
     "data": {
      "text/plain": [
       "['0', '1', '2', '3', '4']"
      ]
     },
     "execution_count": 4,
     "metadata": {},
     "output_type": "execute_result"
    }
   ],
   "source": [
    "list1=[0,1,2,3,4]\n",
    "[str(i) for i in list1]"
   ]
  },
  {
   "cell_type": "markdown",
   "metadata": {
    "colab_type": "text",
    "id": "JI1fYeLKy457"
   },
   "source": [
    "3. Create tuples from two lists using List Comprehensions\n",
    "\n",
    "Hint:\n",
    "list1 =[0,1]\n",
    "list2 =['zero','one']\n",
    "\n",
    "Output:\n",
    "[(0, 'zero'), (0, 'one'), (1, 'zero'), (1, 'one')]"
   ]
  },
  {
   "cell_type": "code",
   "execution_count": 6,
   "metadata": {
    "colab": {},
    "colab_type": "code",
    "id": "sBYuusZGy458"
   },
   "outputs": [
    {
     "data": {
      "text/plain": [
       "[(0, 'zero'), (0, 'one'), (1, 'zero'), (1, 'one')]"
      ]
     },
     "execution_count": 6,
     "metadata": {},
     "output_type": "execute_result"
    }
   ],
   "source": [
    "l1=[0,1]\n",
    "l2=['zero','one']\n",
    "[(x,y)   for x in l1 for y in l2]"
   ]
  },
  {
   "cell_type": "markdown",
   "metadata": {
    "colab_type": "text",
    "id": "3-OvvYZny46A"
   },
   "source": [
    "4. Get Index of Each Element of List using enumerate in List Comprehension"
   ]
  },
  {
   "cell_type": "code",
   "execution_count": 7,
   "metadata": {
    "colab": {},
    "colab_type": "code",
    "id": "rUcTdJqOy46B"
   },
   "outputs": [
    {
     "data": {
      "text/plain": [
       "[(0, 'a'), (1, 'b'), (2, 'c'), (3, 'd'), (4, 'e')]"
      ]
     },
     "execution_count": 7,
     "metadata": {},
     "output_type": "execute_result"
    }
   ],
   "source": [
    "l3=['a','b','c','d','e']\n",
    "[(i,j)  for (i,j) in enumerate(l3)]"
   ]
  },
  {
   "cell_type": "code",
   "execution_count": null,
   "metadata": {},
   "outputs": [],
   "source": []
  }
 ],
 "metadata": {
  "colab": {
   "collapsed_sections": [],
   "name": "Python-inclass-Day3 - Only Questions-BugFree.ipynb",
   "provenance": []
  },
  "kernelspec": {
   "display_name": "Python 3",
   "language": "python",
   "name": "python3"
  },
  "language_info": {
   "codemirror_mode": {
    "name": "ipython",
    "version": 3
   },
   "file_extension": ".py",
   "mimetype": "text/x-python",
   "name": "python",
   "nbconvert_exporter": "python",
   "pygments_lexer": "ipython3",
   "version": "3.7.4"
  }
 },
 "nbformat": 4,
 "nbformat_minor": 1
}
