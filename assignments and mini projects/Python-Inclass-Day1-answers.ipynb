{
 "cells": [
  {
   "cell_type": "raw",
   "metadata": {
    "colab_type": "text",
    "id": "D-KgkVX3IZ-S"
   },
   "source": [
    "1.  Python Program to exchange the values of two numbers without using a temporary variable. "
   ]
  },
  {
   "cell_type": "code",
   "execution_count": 1,
   "metadata": {
    "colab": {},
    "colab_type": "code",
    "id": "yldf_YhdIZ-T"
   },
   "outputs": [
    {
     "name": "stdout",
     "output_type": "stream",
     "text": [
      "enter a value2\n",
      "enter b value3\n",
      "a is: 3 b is: 2\n"
     ]
    }
   ],
   "source": [
    "a=int(input('enter a value'))\n",
    "b=int(input('enter b value'))\n",
    "a=a+b\n",
    "b=a-b\n",
    "a=a-b\n",
    "print (\"a is:\",a,\"b is:\",b)"
   ]
  },
  {
   "cell_type": "raw",
   "metadata": {
    "colab_type": "text",
    "id": "MrK3aZMGIZ-Y"
   },
   "source": [
    "2. Write a python code to replace all  \"a\"  with 2 for the given variable\n",
    "s = 'abc12321cba'"
   ]
  },
  {
   "cell_type": "code",
   "execution_count": 3,
   "metadata": {
    "colab": {},
    "colab_type": "code",
    "id": "J7rr7O5XIZ-Z"
   },
   "outputs": [
    {
     "data": {
      "text/plain": [
       "'2bc12321cb2'"
      ]
     },
     "execution_count": 3,
     "metadata": {},
     "output_type": "execute_result"
    }
   ],
   "source": [
    "s = 'abc12321cba'\n",
    "s.replace('a','2')"
   ]
  },
  {
   "cell_type": "raw",
   "metadata": {
    "colab_type": "text",
    "id": "Zo8gMGlbIZ-g"
   },
   "source": [
    "3. Python code for to  remove first character in string?"
   ]
  },
  {
   "cell_type": "code",
   "execution_count": 28,
   "metadata": {
    "colab": {},
    "colab_type": "code",
    "id": "XTIKmVpiIZ-h"
   },
   "outputs": [
    {
     "data": {
      "text/plain": [
       "'g'"
      ]
     },
     "execution_count": 28,
     "metadata": {},
     "output_type": "execute_result"
    }
   ],
   "source": [
    "s1='great'\n",
    "s1[0:1]\n"
   ]
  },
  {
   "cell_type": "raw",
   "metadata": {
    "colab_type": "text",
    "id": "XBhfFfEIIZ-n"
   },
   "source": [
    "4. Concatenate two strings  \n",
    "First Input : \"Great\" \n",
    "Second Input : \"Learning\"\n",
    "desired output :   \"Great Learning\""
   ]
  },
  {
   "cell_type": "code",
   "execution_count": 11,
   "metadata": {
    "colab": {},
    "colab_type": "code",
    "id": "qVhNDe9mIZ-p"
   },
   "outputs": [
    {
     "name": "stdout",
     "output_type": "stream",
     "text": [
      "Great learning \n"
     ]
    }
   ],
   "source": [
    "a= \"Great\"\n",
    "b=\" learning \"\n",
    "print(a+b)\n",
    "    "
   ]
  },
  {
   "cell_type": "raw",
   "metadata": {
    "colab_type": "text",
    "id": "W1CyejMTIZ-t"
   },
   "source": [
    "5. Repeat the string \"Great Learning\" 3 times \n",
    "desired output :  'Great Learning Great Learning Great Learning '"
   ]
  },
  {
   "cell_type": "code",
   "execution_count": 10,
   "metadata": {
    "colab": {},
    "colab_type": "code",
    "id": "6B83XYHVIZ-u"
   },
   "outputs": [
    {
     "name": "stdout",
     "output_type": "stream",
     "text": [
      "Great learning Great learning Great learning   \n"
     ]
    }
   ],
   "source": [
    "a= \"Great\"\n",
    "b=\" learning \"\n",
    "c=(a+b)\n",
    "print (c*3,' ')\n",
    "    "
   ]
  },
  {
   "cell_type": "raw",
   "metadata": {
    "colab_type": "text",
    "id": "4oblWnrSIZ-y"
   },
   "source": [
    "6. Create 3 variables a1,a2,a3. Assign the same value \" 4 \" to all the variables in a single line of code."
   ]
  },
  {
   "cell_type": "code",
   "execution_count": 29,
   "metadata": {
    "colab": {},
    "colab_type": "code",
    "id": "O7nH3nd-IZ-y"
   },
   "outputs": [
    {
     "name": "stdout",
     "output_type": "stream",
     "text": [
      "4\n",
      "4\n",
      "4\n"
     ]
    }
   ],
   "source": [
    "a1=a2=a3=4\n",
    "print(a1)\n",
    "print(a2)\n",
    "print(a3)"
   ]
  },
  {
   "cell_type": "raw",
   "metadata": {
    "colab_type": "text",
    "id": "fs_t4D-oIZ-2"
   },
   "source": [
    "7. Calculate BMI of a person using the height and weight.\n",
    "BMI = weight / (height **2)\n"
   ]
  },
  {
   "cell_type": "code",
   "execution_count": 31,
   "metadata": {
    "colab": {},
    "colab_type": "code",
    "id": "N_VZSoYjIZ-3"
   },
   "outputs": [
    {
     "name": "stdout",
     "output_type": "stream",
     "text": [
      "enter weight :78\n",
      "enter height in metres :1.767\n",
      "24.98167210018035\n"
     ]
    }
   ],
   "source": [
    "a= int(input(\"enter weight :\"))\n",
    "b=float(input(\"enter height in metres :\"))\n",
    "BMI=a/(b**2)\n",
    "print(BMI)"
   ]
  },
  {
   "cell_type": "raw",
   "metadata": {
    "colab_type": "text",
    "id": "JgXK2m28IZ-7"
   },
   "source": [
    "8.Write a python program to calculate the area of circle."
   ]
  },
  {
   "cell_type": "code",
   "execution_count": 23,
   "metadata": {
    "colab": {},
    "colab_type": "code",
    "id": "m73v7qoCIZ-8"
   },
   "outputs": [
    {
     "name": "stdout",
     "output_type": "stream",
     "text": [
      "enter the radius of circle50\n",
      "7857.142857142857\n"
     ]
    }
   ],
   "source": [
    "a=int(input('enter the radius of circle'))\n",
    "b=22/7\n",
    "area =b*(a**2)\n",
    "print(area)"
   ]
  },
  {
   "cell_type": "raw",
   "metadata": {
    "colab_type": "text",
    "id": "BHXFt9VwIZ_A"
   },
   "source": [
    "9.Calculate the simple interest\n",
    "simple_interest = p * n * r /100"
   ]
  },
  {
   "cell_type": "code",
   "execution_count": 24,
   "metadata": {
    "colab": {},
    "colab_type": "code",
    "id": "7wHLjXC4IZ_B"
   },
   "outputs": [
    {
     "name": "stdout",
     "output_type": "stream",
     "text": [
      "enter p value :10000\n",
      "enter n value :5\n",
      "enter r value5\n",
      "2500.0\n"
     ]
    }
   ],
   "source": [
    "p=float(input('enter p value :'))\n",
    "n=float(input('enter n value :'))\n",
    "r=int(input('enter r value'))\n",
    "simple_interest = p*n*r/100\n",
    "print(simple_interest)"
   ]
  },
  {
   "cell_type": "raw",
   "metadata": {
    "colab_type": "text",
    "id": "afLADSCGIZ_G"
   },
   "source": [
    "10.Python code to calculate the square root of the given number(run time variable)"
   ]
  },
  {
   "cell_type": "code",
   "execution_count": 25,
   "metadata": {
    "colab": {},
    "colab_type": "code",
    "id": "XBTku4euIZ_H"
   },
   "outputs": [
    {
     "name": "stdout",
     "output_type": "stream",
     "text": [
      "enter any number 10\n",
      "3.1622776601683795\n"
     ]
    }
   ],
   "source": [
    "number=float(input('enter any number '))\n",
    "sqrt = number**0.5\n",
    "print(sqrt)"
   ]
  },
  {
   "cell_type": "code",
   "execution_count": null,
   "metadata": {},
   "outputs": [],
   "source": []
  }
 ],
 "metadata": {
  "colab": {
   "collapsed_sections": [],
   "name": "Python-Inclass-Day1- (Questions).ipynb",
   "provenance": []
  },
  "kernelspec": {
   "display_name": "Python 3",
   "language": "python",
   "name": "python3"
  },
  "language_info": {
   "codemirror_mode": {
    "name": "ipython",
    "version": 3
   },
   "file_extension": ".py",
   "mimetype": "text/x-python",
   "name": "python",
   "nbconvert_exporter": "python",
   "pygments_lexer": "ipython3",
   "version": "3.7.4"
  }
 },
 "nbformat": 4,
 "nbformat_minor": 1
}
